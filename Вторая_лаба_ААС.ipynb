{
  "nbformat": 4,
  "nbformat_minor": 0,
  "metadata": {
    "colab": {
      "name": "Вторая лаба ААС.ipynb",
      "provenance": [],
      "collapsed_sections": []
    },
    "kernelspec": {
      "name": "python3",
      "display_name": "Python 3"
    },
    "language_info": {
      "name": "python"
    },
    "accelerator": "GPU"
  },
  "cells": [
    {
      "cell_type": "code",
      "metadata": {
        "id": "jeZXIirGCPN_"
      },
      "source": [
        "import librosa\n",
        "from librosa.feature import melspectrogram\n",
        "from librosa.core import load\n",
        "from librosa.display import specshow\n",
        "from librosa import power_to_db\n",
        "from google.colab import drive\n",
        "import matplotlib.pyplot as plt\n",
        "import pandas as pd\n",
        "import zipfile\n",
        "import io\n",
        "from scipy.io import wavfile"
      ],
      "execution_count": null,
      "outputs": []
    },
    {
      "cell_type": "code",
      "metadata": {
        "colab": {
          "base_uri": "https://localhost:8080/"
        },
        "id": "OrK7Qtcx3-z8",
        "outputId": "b0a7d972-a55e-4353-f196-66f8ff385c41"
      },
      "source": [
        "drive.mount('/content/drive')"
      ],
      "execution_count": null,
      "outputs": [
        {
          "output_type": "stream",
          "text": [
            "Mounted at /content/drive\n"
          ],
          "name": "stdout"
        }
      ]
    },
    {
      "cell_type": "code",
      "metadata": {
        "id": "JmcDZbZsDebt"
      },
      "source": [
        "\n",
        "df=pd.read_csv('drive/MyDrive/Colab_Notebooks/train.csv', sep=',',header=None)\n",
        "dataset = zipfile.ZipFile('drive/MyDrive/Colab_Notebooks/audio_train.zip')\n",
        "labels = df.values.tolist()"
      ],
      "execution_count": null,
      "outputs": []
    },
    {
      "cell_type": "code",
      "metadata": {
        "id": "8WQKvtVWCSux"
      },
      "source": [
        "import os\n",
        "from tqdm import tqdm\n",
        "import pickle\n",
        "import pandas as pd\n",
        "import numpy as np\n",
        "\n",
        "from librosa.feature import melspectrogram\n",
        "from librosa.core import load as load_wav\n",
        "from librosa import power_to_db\n",
        "\n",
        "\n",
        "def extract_log_mel_feats(set_type, path_to_csv, path_to_files, out_path, sr, fft_size, hop, n_mels):\n",
        "    \"\"\"\n",
        "    Extract features from given files and store them in binary format.\n",
        "\n",
        "    :param set_type:\n",
        "    :param path_to_csv: path to loaded csv\n",
        "    :param path_to_files: path to loaded data\n",
        "    :param out_path: path to store extracted features\n",
        "    :param sr: input files sample rate\n",
        "    :param fft_size: size of fft window\n",
        "    :param hop: hop size\n",
        "    :param n_mels: number of mel band\n",
        "\n",
        "    :return:\n",
        "\n",
        "    \"\"\"\n",
        "    set_type = set_type.lower()\n",
        "    if set_type not in ['train', 'test']:\n",
        "        raise Exception('Such set type not supported: {}'.format(set_type))\n",
        "\n",
        "    feats = []\n",
        "\n",
        "    if set_type == 'train':\n",
        "        meta = pd.read_csv(path_to_csv, skiprows=1, names=['fname', 'label', 'manually_verified'])\n",
        "\n",
        "        file_names = list(meta['fname'])\n",
        "        n_files = len(file_names)\n",
        "        labels = list(meta['label'])\n",
        "\n",
        "        uniq_labels = np.sort(np.unique(labels))\n",
        "        label_to_id = {label: i for i, label in enumerate(uniq_labels)}\n",
        "\n",
        "        print('Total files:', n_files)\n",
        "\n",
        "        for i, (file_name, label) in tqdm(enumerate(zip(file_names, labels))):\n",
        "            with io.BytesIO() as bytes_buff:\n",
        "                bytes_data = dataset.read(f'train/{file_name}')\n",
        "                bytes_buff.write(bytes_data)\n",
        "                bytes_buff.seek(0)\n",
        "                sr, wav_data = wavfile.read(bytes_buff)\n",
        "            \n",
        "            mel_spec = melspectrogram(wav_data, n_fft=fft_size, hop_length=hop, n_mels=n_mels, fmax=sr // 2)\n",
        "            log_mel_spec = power_to_db(mel_spec, ref=np.max)\n",
        "            feats.append({\n",
        "                'fname': file_name,\n",
        "                'feature': log_mel_spec,\n",
        "                'label_id': label_to_id[label]\n",
        "            })\n",
        "        pickle.dump(feats, open(out_path, 'wb'))    \n",
        "        return label_to_id\n",
        "    else:\n",
        "        for i, (file_name, label) in tqdm(enumerate(zip(file_names, labels))):\n",
        "            with io.BytesIO() as bytes_buff:\n",
        "                bytes_data = dataset.read(f'train/{file_name}')\n",
        "                bytes_buff.write(bytes_data)\n",
        "                bytes_buff.seek(0)\n",
        "                sr, wav_data = wavfile.read(bytes_buff)\n",
        "            if len(wav_data) == 0:\n",
        "                # print('Empty file:', file_name)\n",
        "                wav_data = np.zeros(sr)\n",
        "            mel_spec = melspectrogram(wav_data, n_fft=fft_size, n_mels=n_mels, fmax=sr // 2)\n",
        "            log_mel_spec = power_to_db(mel_spec, ref=np.max)\n",
        "            feats.append({\n",
        "                'fname': file_name,\n",
        "                'feature': log_mel_spec,\n",
        "            })\n",
        "\n",
        "    pickle.dump(feats, open(out_path, 'wb'))"
      ],
      "execution_count": null,
      "outputs": []
    },
    {
      "cell_type": "code",
      "metadata": {
        "id": "pGZ-rlEDCSxj"
      },
      "source": [
        "# train_folder = '.drive/MyDrive/Анализ_акустических_событий/audio_train/'\n",
        "# test_folder = '.drive/MyDrive/Анализ_акустических_событий/audio_train/'\n",
        "\n",
        "sample_rate = 11025\n",
        "fft_size = 1024\n",
        "overlap = 4\n",
        "hop = fft_size // overlap\n",
        "mels = 64"
      ],
      "execution_count": null,
      "outputs": []
    },
    {
      "cell_type": "code",
      "metadata": {
        "id": "gWUxbooCCS24",
        "colab": {
          "base_uri": "https://localhost:8080/"
        },
        "outputId": "8c4623c4-9f0d-4af2-9e2e-2533a5e12b16"
      },
      "source": [
        "path_to_csv = 'drive/MyDrive/Colab_Notebooks/train.csv'\n",
        "\n",
        "pickle_train_path = os.path.join('train.pickle')\n",
        "# pickle_test_path = os.path.join('./data', 'test.pickle')\n",
        "train_folder = 'fff'\n",
        "label_to_id = extract_log_mel_feats('train', path_to_csv, train_folder, pickle_train_path, sample_rate, fft_size, hop, mels)\n",
        "id_to_label = [label for label, i in label_to_id.items()]"
      ],
      "execution_count": null,
      "outputs": [
        {
          "output_type": "stream",
          "text": [
            "\r0it [00:00, ?it/s]"
          ],
          "name": "stderr"
        },
        {
          "output_type": "stream",
          "text": [
            "Total files: 5683\n"
          ],
          "name": "stdout"
        },
        {
          "output_type": "stream",
          "text": [
            "5683it [02:40, 35.33it/s]\n"
          ],
          "name": "stderr"
        }
      ]
    },
    {
      "cell_type": "code",
      "metadata": {
        "id": "UhSdCOqpCS5_"
      },
      "source": [
        "import numpy as np\n",
        "import pandas as pd\n",
        "import soundfile as sf\n",
        "import torch.nn.functional as F\n",
        "import torch.nn as nn\n",
        "import torch\n",
        "\n",
        "\n",
        "class DummyNetwork(nn.Module):\n",
        "    def __init__(self):\n",
        "        super(DummyNetwork, self).__init__()\n",
        "        \n",
        "        self.conv1 = nn.Conv2d(in_channels=1, out_channels=64, kernel_size=5, stride=(2, 2))\n",
        "        self.conv2 = nn.Conv2d(in_channels=64, out_channels=96, kernel_size=3, stride=(1, 1))\n",
        "        self.conv3 = nn.Conv2d(in_channels=96, out_channels=64, kernel_size=3, stride=(1, 1))\n",
        "        \n",
        "        self.mp = nn.MaxPool2d(kernel_size=(2, 2), stride=(1, 1))\n",
        "        \n",
        "        self.dropout1 = nn.Dropout(p=0.3)\n",
        "        self.dropout2 = nn.Dropout(p=0.3)\n",
        "        self.dropout3 = nn.Dropout(p=0.3)\n",
        "        \n",
        "        self.bn1 = nn.BatchNorm2d(num_features=64)\n",
        "        self.bn2 = nn.BatchNorm2d(num_features=96)\n",
        "        self.bn3 = nn.BatchNorm2d(num_features=64)\n",
        "        \n",
        "        self.flat = nn.Flatten()\n",
        "        \n",
        "        # 33856 - должно соответствовать форме self.flat\n",
        "        self.fc1 = nn.Linear(80960, 41)\n",
        "\n",
        "    def forward(self, x):\n",
        "        x = self.conv1(x)\n",
        "        x = self.bn1(x)\n",
        "        x = F.relu(x)\n",
        "        x = self.mp(x)\n",
        "        x = self.dropout1(x)\n",
        "        \n",
        "        x = self.conv2(x)\n",
        "        x = self.bn2(x)\n",
        "        x = F.relu(x)\n",
        "        x = self.mp(x)\n",
        "        x = self.dropout2(x)\n",
        "        \n",
        "        x = self.conv3(x)\n",
        "        x = self.bn3(x)\n",
        "        x = F.relu(x)\n",
        "        x = self.mp(x)\n",
        "        x = self.dropout3(x)\n",
        "        \n",
        "        x = self.flat(x)\n",
        "        # здесь можно еще добавить полносвязных слой или слои\n",
        "        x = self.fc1(x)\n",
        "        return x"
      ],
      "execution_count": null,
      "outputs": []
    },
    {
      "cell_type": "code",
      "metadata": {
        "id": "xBNAENN-Cm6r"
      },
      "source": [
        "import pickle\n",
        "\n",
        "pickle_train_data = pickle.load(open(pickle_train_path, 'rb'))"
      ],
      "execution_count": null,
      "outputs": []
    },
    {
      "cell_type": "code",
      "metadata": {
        "id": "FzMiX141Cm-Y"
      },
      "source": [
        "def prepare_shape(feature):\n",
        "    tmp = feature\n",
        "    N = 128 # размер во времени (можно увеличить, должно стать лучше)\n",
        "    while tmp.shape[1] < N:\n",
        "        # можно попробовать сделать np.pad для коротких файлов, вместо повторения до необходимой длины\n",
        "        tmp = np.hstack((tmp, tmp))\n",
        "    # случайный сдвиг должен улучшить результат (для этого нужно функцию перенести в EventDetectionDataset)\n",
        "    tmp = tmp[np.newaxis, :, :N]\n",
        "    return tmp"
      ],
      "execution_count": null,
      "outputs": []
    },
    {
      "cell_type": "code",
      "metadata": {
        "id": "u9fuup7VCnAd"
      },
      "source": [
        "# можно улучшить, используя сбалансированное валидационное множество\n",
        "# гуглить stratified train test split sklearn\n",
        "validation_set_size = 1200\n",
        "\n",
        "x_val = []\n",
        "y_val = []\n",
        "\n",
        "x_tr = []\n",
        "y_tr = []\n",
        "\n",
        "for i, row in enumerate(pickle_train_data):\n",
        "    feature = prepare_shape(row['feature'])\n",
        "    if i < validation_set_size:\n",
        "        x_val.append(feature)\n",
        "        y_val.append(row['label_id'])\n",
        "    else:\n",
        "        x_tr.append(feature)\n",
        "        y_tr.append(row['label_id'])\n",
        "x_val = np.asarray(x_val)\n",
        "x_tr = np.asarray(x_tr)\n",
        "\n",
        "y_val = np.asarray(y_val)\n",
        "y_tr = np.asarray(y_tr)"
      ],
      "execution_count": null,
      "outputs": []
    },
    {
      "cell_type": "code",
      "metadata": {
        "colab": {
          "base_uri": "https://localhost:8080/"
        },
        "id": "B1N6UECOAq9p",
        "outputId": "21cfb63d-9219-4c33-cbad-09056d323c49"
      },
      "source": [
        "print(x_val.shape, x_tr.shape)"
      ],
      "execution_count": null,
      "outputs": [
        {
          "output_type": "stream",
          "text": [
            "(1200, 1, 64, 128) (4483, 1, 64, 128)\n"
          ],
          "name": "stdout"
        }
      ]
    },
    {
      "cell_type": "code",
      "metadata": {
        "id": "CK79m-_VCnDi"
      },
      "source": [
        "from torch.utils.data import Dataset\n",
        "\n",
        "\n",
        "class EventDetectionDataset(Dataset):\n",
        "    def __init__(self, x, y=None):\n",
        "        self.x = x\n",
        "        self.y = y\n",
        "    \n",
        "    def __len__(self):\n",
        "        return len(self.x)\n",
        "\n",
        "    def __getitem__(self, idx):\n",
        "        # добавить сюда prepare_shape()\n",
        "        if self.y is not None:\n",
        "            return self.x[idx], self.y[idx]\n",
        "        return self.x[idx]"
      ],
      "execution_count": null,
      "outputs": []
    },
    {
      "cell_type": "code",
      "metadata": {
        "id": "rXpFwJkPCyKU"
      },
      "source": [
        "train_dset = EventDetectionDataset(x_tr, y_tr)\n",
        "val_dset = EventDetectionDataset(x_val, y_val)"
      ],
      "execution_count": null,
      "outputs": []
    },
    {
      "cell_type": "code",
      "metadata": {
        "id": "yGdfK0ckCyNK",
        "colab": {
          "base_uri": "https://localhost:8080/",
          "height": 314
        },
        "outputId": "bfd624c6-0b11-40f0-b1e6-393ff543d05b"
      },
      "source": [
        "sample_x, sample_y = val_dset[2]\n",
        "print(sample_y)\n",
        "# print(id_to_label[sample_y])\n",
        "plt.figure(figsize=(10, 4))\n",
        "colors = 'viridis'\n",
        "specshow(sample_x[0], y_axis='mel', fmax=sample_rate//2, x_axis='time', cmap=colors)\n",
        "plt.colorbar(format='%+2.0f дБ')\n",
        "plt.title('Мелспектрограмма')\n",
        "plt.tight_layout()\n",
        "plt.show()"
      ],
      "execution_count": null,
      "outputs": [
        {
          "output_type": "stream",
          "text": [
            "14\n"
          ],
          "name": "stdout"
        },
        {
          "output_type": "display_data",
          "data": {
            "image/png": "[encoded data removed]",
            "text/plain": [
              "<Figure size 720x288 with 2 Axes>"
            ]
          },
          "metadata": {
            "tags": [],
            "needs_background": "light"
          }
        }
      ]
    },
    {
      "cell_type": "code",
      "metadata": {
        "id": "ZV1X2XVTCyRN"
      },
      "source": [
        "from torch.utils.data import DataLoader\n",
        "\n",
        "train_loader = DataLoader(train_dset, batch_size=41, shuffle=True, num_workers=0)\n",
        "val_loader = DataLoader(val_dset, batch_size=41, shuffle=False, num_workers=0)"
      ],
      "execution_count": null,
      "outputs": []
    },
    {
      "cell_type": "code",
      "metadata": {
        "id": "ryI6uyWhC4Cg"
      },
      "source": [
        "from sklearn.metrics import accuracy_score\n",
        "import torch.optim as optim"
      ],
      "execution_count": null,
      "outputs": []
    },
    {
      "cell_type": "code",
      "metadata": {
        "id": "N_nnvfdoC4Fm",
        "colab": {
          "base_uri": "https://localhost:8080/"
        },
        "outputId": "43032c93-1b89-4eb7-9f3e-292b14aa67e4"
      },
      "source": [
        "n_epoch = 80\n",
        "criterion = nn.CrossEntropyLoss()\n",
        "network = DummyNetwork()\n",
        "# можно попробовать другой optimizer, тоже считается улучшением\n",
        "optimizer = optim.Adam(network.parameters(), lr=0.001)\n",
        "\n",
        "train_loss = []\n",
        "val_loss = []\n",
        "\n",
        "train_acc = []\n",
        "val_acc = []\n",
        "\n",
        "for e in range(n_epoch):\n",
        "    print('epoch #', e)\n",
        "    # train\n",
        "    loss_list = []\n",
        "    outputs = []\n",
        "    targets = []\n",
        "    for i_batch, sample_batched in enumerate(train_loader):\n",
        "        x, y = sample_batched\n",
        "        optimizer.zero_grad()\n",
        "        \n",
        "        output = network(x.float())\n",
        "        outputs.append(output.detach().numpy().argmax(axis=1))\n",
        "    \n",
        "        target = y\n",
        "        targets.append(target)\n",
        "        \n",
        "        loss = criterion(output, target.long())\n",
        "        loss_list.append(loss.item())\n",
        "        loss.backward()\n",
        "        optimizer.step()\n",
        "    y_true = np.hstack(targets)\n",
        "    y_pred = np.hstack(outputs)\n",
        "    acc = accuracy_score(y_true, y_pred)\n",
        "    train_loss.append(np.mean(loss_list))\n",
        "    train_acc.append(acc)\n",
        "    print('mean train loss:', train_loss[-1])\n",
        "    print('train accuracy:', acc)\n",
        "    \n",
        "    \n",
        "    loss_list = []\n",
        "    outputs = []\n",
        "    targets = []\n",
        "    with torch.no_grad():\n",
        "        for i_batch, sample_batched in enumerate(val_loader):\n",
        "            x, y = sample_batched\n",
        "#             optimizer.zero_grad()\n",
        "\n",
        "            output = network(x.float())\n",
        "            outputs.append(output.detach().numpy().argmax(axis=1))\n",
        "\n",
        "            target = y\n",
        "            targets.append(target)\n",
        "\n",
        "            loss = criterion(output, target.long())\n",
        "            loss_list.append(loss.item())\n",
        "#             loss.backward()\n",
        "#             optimizer.step()\n",
        "            \n",
        "        y_true = np.hstack(targets)\n",
        "        y_pred = np.hstack(outputs)\n",
        "        acc = accuracy_score(y_true, y_pred)\n",
        "        val_loss.append(np.mean(loss_list))\n",
        "        val_acc.append(acc)\n",
        "        print('mean val loss:', val_loss[-1])\n",
        "        print('val accuracy:', acc)"
      ],
      "execution_count": null,
      "outputs": [
        {
          "output_type": "stream",
          "text": [
            "epoch # 0\n",
            "mean train loss: 22.575585105202414\n",
            "train accuracy: 0.12201650680347981\n",
            "mean val loss: 9.040082375208536\n",
            "val accuracy: 0.16666666666666666\n",
            "epoch # 1\n",
            "mean train loss: 9.617795315655796\n",
            "train accuracy: 0.21592683470890028\n",
            "mean val loss: 8.716047477722167\n",
            "val accuracy: 0.1825\n",
            "epoch # 2\n",
            "mean train loss: 6.659998206658797\n",
            "train accuracy: 0.2667856346196743\n",
            "mean val loss: 6.038272539774577\n",
            "val accuracy: 0.2625\n",
            "epoch # 3\n",
            "mean train loss: 4.655759427764199\n",
            "train accuracy: 0.3247825117109079\n",
            "mean val loss: 5.008252008756002\n",
            "val accuracy: 0.30833333333333335\n",
            "epoch # 4\n",
            "mean train loss: 3.5170640197667207\n",
            "train accuracy: 0.3845639080972563\n",
            "mean val loss: 3.705258011817932\n",
            "val accuracy: 0.33\n",
            "epoch # 5\n",
            "mean train loss: 2.448014282096516\n",
            "train accuracy: 0.4456836939549409\n",
            "mean val loss: 3.0684784015019733\n",
            "val accuracy: 0.36833333333333335\n",
            "epoch # 6\n",
            "mean train loss: 1.9574156544425272\n",
            "train accuracy: 0.517064465759536\n",
            "mean val loss: 2.6522721926371258\n",
            "val accuracy: 0.4125\n",
            "epoch # 7\n",
            "mean train loss: 1.6231825086203489\n",
            "train accuracy: 0.5790765112647781\n",
            "mean val loss: 2.588582448164622\n",
            "val accuracy: 0.41833333333333333\n",
            "epoch # 8\n",
            "mean train loss: 1.3979328589005904\n",
            "train accuracy: 0.6285969217042159\n",
            "mean val loss: 2.63590989112854\n",
            "val accuracy: 0.4475\n",
            "epoch # 9\n",
            "mean train loss: 1.247395356134935\n",
            "train accuracy: 0.6636181128708454\n",
            "mean val loss: 2.4475211103757224\n",
            "val accuracy: 0.4475\n",
            "epoch # 10\n",
            "mean train loss: 1.0719931813803587\n",
            "train accuracy: 0.7153691724291769\n",
            "mean val loss: 2.2539407928784687\n",
            "val accuracy: 0.4875\n",
            "epoch # 11\n",
            "mean train loss: 0.9371626816012643\n",
            "train accuracy: 0.7436984162391256\n",
            "mean val loss: 2.4536558906237285\n",
            "val accuracy: 0.485\n",
            "epoch # 12\n",
            "mean train loss: 0.7965799207037145\n",
            "train accuracy: 0.7711354004015168\n",
            "mean val loss: 2.5668038805325826\n",
            "val accuracy: 0.4741666666666667\n",
            "epoch # 13\n",
            "mean train loss: 0.7122343865307894\n",
            "train accuracy: 0.794780281061789\n",
            "mean val loss: 2.744241416454315\n",
            "val accuracy: 0.46\n",
            "epoch # 14\n",
            "mean train loss: 0.5839525687423619\n",
            "train accuracy: 0.833816640642427\n",
            "mean val loss: 2.5035983681678773\n",
            "val accuracy: 0.5208333333333334\n",
            "epoch # 15\n",
            "mean train loss: 0.5009536855600097\n",
            "train accuracy: 0.8581307160383672\n",
            "mean val loss: 2.8341306964556376\n",
            "val accuracy: 0.4633333333333333\n",
            "epoch # 16\n",
            "mean train loss: 0.44980822042985397\n",
            "train accuracy: 0.8710684809279501\n",
            "mean val loss: 2.845722504456838\n",
            "val accuracy: 0.5116666666666667\n",
            "epoch # 17\n",
            "mean train loss: 0.43814911876212465\n",
            "train accuracy: 0.8759759089895159\n",
            "mean val loss: 2.894238797823588\n",
            "val accuracy: 0.49916666666666665\n",
            "epoch # 18\n",
            "mean train loss: 0.4681969944726337\n",
            "train accuracy: 0.8719607405755074\n",
            "mean val loss: 2.8232574025789896\n",
            "val accuracy: 0.49833333333333335\n",
            "epoch # 19\n",
            "mean train loss: 0.33544843000444496\n",
            "train accuracy: 0.9083203212134732\n",
            "mean val loss: 3.11719286441803\n",
            "val accuracy: 0.5\n",
            "epoch # 20\n",
            "mean train loss: 0.27291685142977673\n",
            "train accuracy: 0.9228195404862815\n",
            "mean val loss: 2.995065220197042\n",
            "val accuracy: 0.5008333333333334\n",
            "epoch # 21\n",
            "mean train loss: 0.2561657341705127\n",
            "train accuracy: 0.9248271246932858\n",
            "mean val loss: 3.000692641735077\n",
            "val accuracy: 0.5025\n",
            "epoch # 22\n",
            "mean train loss: 0.17054532708769496\n",
            "train accuracy: 0.9556100825340174\n",
            "mean val loss: 3.193794520696004\n",
            "val accuracy: 0.545\n",
            "epoch # 23\n",
            "mean train loss: 0.1981932805512439\n",
            "train accuracy: 0.9482489404416685\n",
            "mean val loss: 3.2021365563074746\n",
            "val accuracy: 0.49333333333333335\n",
            "epoch # 24\n",
            "mean train loss: 0.17580605684356257\n",
            "train accuracy: 0.9502565246486727\n",
            "mean val loss: 3.096743083000183\n",
            "val accuracy: 0.5316666666666666\n",
            "epoch # 25\n",
            "mean train loss: 0.14464960404756394\n",
            "train accuracy: 0.9602944456836939\n",
            "mean val loss: 3.1447286287943523\n",
            "val accuracy: 0.5216666666666666\n",
            "epoch # 26\n",
            "mean train loss: 0.1251194286414168\n",
            "train accuracy: 0.9652018737452599\n",
            "mean val loss: 3.3239546457926434\n",
            "val accuracy: 0.5116666666666667\n",
            "epoch # 27\n",
            "mean train loss: 0.12534869875420224\n",
            "train accuracy: 0.9647557439214811\n",
            "mean val loss: 3.3217150807380675\n",
            "val accuracy: 0.5258333333333334\n",
            "epoch # 28\n",
            "mean train loss: 0.1547171912579374\n",
            "train accuracy: 0.9582868614766897\n",
            "mean val loss: 3.82835693359375\n",
            "val accuracy: 0.48333333333333334\n",
            "epoch # 29\n",
            "mean train loss: 0.16169097044251182\n",
            "train accuracy: 0.9565023421815748\n",
            "mean val loss: 3.4340813835461934\n",
            "val accuracy: 0.5266666666666666\n",
            "epoch # 30\n",
            "mean train loss: 0.16939047563143753\n",
            "train accuracy: 0.9580637965648003\n",
            "mean val loss: 3.3623191515604653\n",
            "val accuracy: 0.5225\n",
            "epoch # 31\n",
            "mean train loss: 0.15231433339755643\n",
            "train accuracy: 0.9614097702431408\n",
            "mean val loss: 3.6328697999318442\n",
            "val accuracy: 0.5091666666666667\n",
            "epoch # 32\n",
            "mean train loss: 0.09053817559033632\n",
            "train accuracy: 0.9736783403970556\n",
            "mean val loss: 3.424248687426249\n",
            "val accuracy: 0.5175\n",
            "epoch # 33\n",
            "mean train loss: 0.07461272310042245\n",
            "train accuracy: 0.9799241579299576\n",
            "mean val loss: 3.4733789285024006\n",
            "val accuracy: 0.5408333333333334\n",
            "epoch # 34\n",
            "mean train loss: 0.09935700844719329\n",
            "train accuracy: 0.9768012491635066\n",
            "mean val loss: 3.5861865242322284\n",
            "val accuracy: 0.5225\n",
            "epoch # 35\n",
            "mean train loss: 0.10253447028173303\n",
            "train accuracy: 0.9736783403970556\n",
            "mean val loss: 3.4523958563804626\n",
            "val accuracy: 0.5266666666666666\n",
            "epoch # 36\n",
            "mean train loss: 0.13598318219777536\n",
            "train accuracy: 0.9580637965648003\n",
            "mean val loss: 3.323263776302338\n",
            "val accuracy: 0.5225\n",
            "epoch # 37\n",
            "mean train loss: 0.0959544602019543\n",
            "train accuracy: 0.9750167298683917\n",
            "mean val loss: 3.687078086535136\n",
            "val accuracy: 0.5025\n",
            "epoch # 38\n",
            "mean train loss: 0.10442896582694217\n",
            "train accuracy: 0.9698862368949365\n",
            "mean val loss: 3.6965086976687114\n",
            "val accuracy: 0.5216666666666666\n",
            "epoch # 39\n",
            "mean train loss: 0.13851291977546432\n",
            "train accuracy: 0.9614097702431408\n",
            "mean val loss: 3.5726620078086855\n",
            "val accuracy: 0.5016666666666667\n",
            "epoch # 40\n",
            "mean train loss: 0.10226150508123365\n",
            "train accuracy: 0.9710015614543832\n",
            "mean val loss: 3.7500092029571532\n",
            "val accuracy: 0.505\n",
            "epoch # 41\n",
            "mean train loss: 0.08463886754841289\n",
            "train accuracy: 0.977693508811064\n",
            "mean val loss: 3.3891502459843954\n",
            "val accuracy: 0.5241666666666667\n",
            "epoch # 42\n",
            "mean train loss: 0.07986118469006297\n",
            "train accuracy: 0.9781396386348428\n",
            "mean val loss: 3.545469097296397\n",
            "val accuracy: 0.5391666666666667\n",
            "epoch # 43\n",
            "mean train loss: 0.0766211371530186\n",
            "train accuracy: 0.9788088333705108\n",
            "mean val loss: 3.5870875755945844\n",
            "val accuracy: 0.5141666666666667\n",
            "epoch # 44\n",
            "mean train loss: 0.049588799296708945\n",
            "train accuracy: 0.9863930403747491\n",
            "mean val loss: 3.828656335671743\n",
            "val accuracy: 0.5266666666666666\n",
            "epoch # 45\n",
            "mean train loss: 0.017233817194937728\n",
            "train accuracy: 0.9955387017622128\n",
            "mean val loss: 4.155515082677206\n",
            "val accuracy: 0.5066666666666667\n",
            "epoch # 46\n",
            "mean train loss: 0.04450012398037043\n",
            "train accuracy: 0.9886236894936427\n",
            "mean val loss: 4.0492035269737245\n",
            "val accuracy: 0.5316666666666666\n",
            "epoch # 47\n",
            "mean train loss: 0.11665374075210738\n",
            "train accuracy: 0.9678786526879322\n",
            "mean val loss: 3.726599411169688\n",
            "val accuracy: 0.5091666666666667\n",
            "epoch # 48\n",
            "mean train loss: 0.10941397228955545\n",
            "train accuracy: 0.9656480035690386\n",
            "mean val loss: 3.619524081548055\n",
            "val accuracy: 0.5341666666666667\n",
            "epoch # 49\n",
            "mean train loss: 0.08348770031959496\n",
            "train accuracy: 0.9792549631942895\n",
            "mean val loss: 3.709238930543264\n",
            "val accuracy: 0.5291666666666667\n",
            "epoch # 50\n",
            "mean train loss: 0.03750796714501286\n",
            "train accuracy: 0.9913004684363149\n",
            "mean val loss: 3.737133546670278\n",
            "val accuracy: 0.5491666666666667\n",
            "epoch # 51\n",
            "mean train loss: 0.06046319202604619\n",
            "train accuracy: 0.9830470666964086\n",
            "mean val loss: 3.773411520322164\n",
            "val accuracy: 0.515\n",
            "epoch # 52\n",
            "mean train loss: 0.07522559046364305\n",
            "train accuracy: 0.9790318982824002\n",
            "mean val loss: 3.7038430611292523\n",
            "val accuracy: 0.5033333333333333\n",
            "epoch # 53\n",
            "mean train loss: 0.06420042526442557\n",
            "train accuracy: 0.9823778719607406\n",
            "mean val loss: 3.943633198738098\n",
            "val accuracy: 0.49833333333333335\n",
            "epoch # 54\n",
            "mean train loss: 0.0665173531965014\n",
            "train accuracy: 0.980816417577515\n",
            "mean val loss: 3.8242119352022805\n",
            "val accuracy: 0.5166666666666667\n",
            "epoch # 55\n",
            "mean train loss: 0.050713286302264106\n",
            "train accuracy: 0.9828240017845193\n",
            "mean val loss: 4.00332541068395\n",
            "val accuracy: 0.5216666666666666\n",
            "epoch # 56\n",
            "mean train loss: 0.06989423046523535\n",
            "train accuracy: 0.9819317421369619\n",
            "mean val loss: 3.984769611557325\n",
            "val accuracy: 0.5175\n",
            "epoch # 57\n",
            "mean train loss: 0.0941543445255692\n",
            "train accuracy: 0.9725630158376087\n",
            "mean val loss: 3.97072145541509\n",
            "val accuracy: 0.49916666666666665\n",
            "epoch # 58\n",
            "mean train loss: 0.08881519665856931\n",
            "train accuracy: 0.9703323667187151\n",
            "mean val loss: 3.6790425380071006\n",
            "val accuracy: 0.5425\n",
            "epoch # 59\n",
            "mean train loss: 0.059045770978131754\n",
            "train accuracy: 0.9839393263439661\n",
            "mean val loss: 3.9958008686701456\n",
            "val accuracy: 0.5175\n",
            "epoch # 60\n",
            "mean train loss: 0.0448325176675677\n",
            "train accuracy: 0.9868391701985277\n",
            "mean val loss: 4.138140006860097\n",
            "val accuracy: 0.5125\n",
            "epoch # 61\n",
            "mean train loss: 0.03564786716914651\n",
            "train accuracy: 0.9904082087887576\n",
            "mean val loss: 3.9828668157259624\n",
            "val accuracy: 0.52\n",
            "epoch # 62\n",
            "mean train loss: 0.029196991224307568\n",
            "train accuracy: 0.9917465982600937\n",
            "mean val loss: 4.045174900690714\n",
            "val accuracy: 0.5341666666666667\n",
            "epoch # 63\n",
            "mean train loss: 0.06596291377817662\n",
            "train accuracy: 0.9841623912558555\n",
            "mean val loss: 3.8986950596173604\n",
            "val accuracy: 0.5225\n",
            "epoch # 64\n",
            "mean train loss: 0.04366382233512757\n",
            "train accuracy: 0.9877314298460852\n",
            "mean val loss: 3.922692807515462\n",
            "val accuracy: 0.5325\n",
            "epoch # 65\n",
            "mean train loss: 0.03167429602604402\n",
            "train accuracy: 0.9904082087887576\n",
            "mean val loss: 3.9212932030359906\n",
            "val accuracy: 0.53\n",
            "epoch # 66\n",
            "mean train loss: 0.04554317189613357\n",
            "train accuracy: 0.9877314298460852\n",
            "mean val loss: 3.879868535200755\n",
            "val accuracy: 0.5191666666666667\n",
            "epoch # 67\n",
            "mean train loss: 0.046770013039085\n",
            "train accuracy: 0.9863930403747491\n",
            "mean val loss: 3.9809676011403403\n",
            "val accuracy: 0.5141666666666667\n",
            "epoch # 68\n",
            "mean train loss: 0.05439221546614797\n",
            "train accuracy: 0.9852777158153022\n",
            "mean val loss: 4.155417243639628\n",
            "val accuracy: 0.525\n",
            "epoch # 69\n",
            "mean train loss: 0.0485723342735913\n",
            "train accuracy: 0.9866161052866385\n",
            "mean val loss: 4.151823341846466\n",
            "val accuracy: 0.52\n",
            "epoch # 70\n",
            "mean train loss: 0.048723105800772\n",
            "train accuracy: 0.9872853000223065\n",
            "mean val loss: 3.9551199436187745\n",
            "val accuracy: 0.52\n",
            "epoch # 71\n",
            "mean train loss: 0.05096614227302119\n",
            "train accuracy: 0.9861699754628597\n",
            "mean val loss: 4.381352619330088\n",
            "val accuracy: 0.5258333333333334\n",
            "epoch # 72\n",
            "mean train loss: 0.0849882743363692\n",
            "train accuracy: 0.9792549631942895\n",
            "mean val loss: 3.7516938924789427\n",
            "val accuracy: 0.48833333333333334\n",
            "epoch # 73\n",
            "mean train loss: 0.05387902126901529\n",
            "train accuracy: 0.9870622351104171\n",
            "mean val loss: 3.7836100697517394\n",
            "val accuracy: 0.5125\n",
            "epoch # 74\n",
            "mean train loss: 0.03215768996808699\n",
            "train accuracy: 0.9899620789649788\n",
            "mean val loss: 4.076676948865255\n",
            "val accuracy: 0.5266666666666666\n",
            "epoch # 75\n",
            "mean train loss: 0.0199608570078536\n",
            "train accuracy: 0.9939772473789873\n",
            "mean val loss: 3.900792070229848\n",
            "val accuracy: 0.5325\n",
            "epoch # 76\n",
            "mean train loss: 0.02339363646566529\n",
            "train accuracy: 0.9921927280838724\n",
            "mean val loss: 3.9146814902623492\n",
            "val accuracy: 0.5341666666666667\n",
            "epoch # 77\n",
            "mean train loss: 0.03742503011982824\n",
            "train accuracy: 0.9910774035244256\n",
            "mean val loss: 4.1499273101488745\n",
            "val accuracy: 0.505\n",
            "epoch # 78\n",
            "mean train loss: 0.05588800252060702\n",
            "train accuracy: 0.9803702877537364\n",
            "mean val loss: 4.165232717990875\n",
            "val accuracy: 0.5216666666666666\n",
            "epoch # 79\n",
            "mean train loss: 0.04857455427514982\n",
            "train accuracy: 0.9877314298460852\n",
            "mean val loss: 4.546070249875386\n",
            "val accuracy: 0.5141666666666667\n"
          ],
          "name": "stdout"
        }
      ]
    },
    {
      "cell_type": "code",
      "metadata": {
        "id": "Wjv5GqUCC4Id",
        "colab": {
          "base_uri": "https://localhost:8080/",
          "height": 573
        },
        "outputId": "6daa5e13-f281-4d40-9886-140da562cf5a"
      },
      "source": [
        "epochs = np.arange(1, n_epoch+1)\n",
        "\n",
        "axes = plt.gca()\n",
        "axes.set_ylim([0,max(max(train_loss), max(val_loss))+1])\n",
        "plt.plot(epochs, train_loss, 'r', label='train')\n",
        "plt.plot(epochs, val_loss, 'b', label='val')\n",
        "plt.title('loss')\n",
        "plt.xlabel('epoch number')\n",
        "plt.ylabel('loss value')\n",
        "plt.legend()\n",
        "plt.grid()\n",
        "plt.show()\n",
        "\n",
        "\n",
        "axes = plt.gca()\n",
        "axes.set_ylim([0,1])\n",
        "plt.plot(epochs, train_acc, 'r', label='train')\n",
        "plt.plot(epochs, val_acc, 'b', label='val')\n",
        "plt.title('accuracy')\n",
        "plt.xlabel('epoch number')\n",
        "plt.ylabel('accuracy value')\n",
        "plt.legend()\n",
        "plt.grid()\n",
        "plt.show()"
      ],
      "execution_count": null,
      "outputs": [
        {
          "output_type": "display_data",
          "data": {
            "image/png": "[encoded data removed]",
            "text/plain": [
              "<Figure size 432x288 with 1 Axes>"
            ]
          },
          "metadata": {
            "tags": [],
            "needs_background": "light"
          }
        },
        {
          "output_type": "display_data",
          "data": {
            "image/png": "[encoded data removed]",
            "text/plain": [
              "<Figure size 432x288 with 1 Axes>"
            ]
          },
          "metadata": {
            "tags": [],
            "needs_background": "light"
          }
        }
      ]
    },
    {
      "cell_type": "code",
      "metadata": {
        "id": "Uop4CXxFC4LX"
      },
      "source": [
        ""
      ],
      "execution_count": null,
      "outputs": []
    },
    {
      "cell_type": "code",
      "metadata": {
        "id": "rtE2b8PkC4OF"
      },
      "source": [
        ""
      ],
      "execution_count": null,
      "outputs": []
    },
    {
      "cell_type": "code",
      "metadata": {
        "id": "9Dff89J1C4Sn"
      },
      "source": [
        ""
      ],
      "execution_count": null,
      "outputs": []
    }
  ]
}