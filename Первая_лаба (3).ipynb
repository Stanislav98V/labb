{
  "nbformat": 4,
  "nbformat_minor": 0,
  "metadata": {
    "colab": {
      "name": "Первая лаба.ipynb",
      "provenance": [],
      "collapsed_sections": [
        "SNgkxURlrbwf",
        "Txv-F9szrskU",
        "6B8SeO86ry8r",
        "lTdXz7bysKJe",
        "2pzTV6y1swsa"
      ]
    },
    "kernelspec": {
      "name": "python3",
      "display_name": "Python 3"
    },
    "language_info": {
      "name": "python"
    },
    "accelerator": "GPU"
  },
  "cells": [
    {
      "cell_type": "markdown",
      "metadata": {
        "id": "SNgkxURlrbwf"
      },
      "source": [
        "# **Библиотеки**"
      ]
    },
    {
      "cell_type": "code",
      "metadata": {
        "id": "daPm9JQXlbH1"
      },
      "source": [
        "import librosa\n",
        "import zipfile\n",
        "import io\n",
        "from scipy.io import wavfile\n",
        "from google.colab import drive\n",
        "import numpy as np\n",
        "import pandas as pd"
      ],
      "execution_count": 1,
      "outputs": []
    },
    {
      "cell_type": "markdown",
      "metadata": {
        "id": "20bmPhL0rn-I"
      },
      "source": [
        "# **Данные**"
      ]
    },
    {
      "cell_type": "markdown",
      "metadata": {
        "id": "Txv-F9szrskU"
      },
      "source": [
        "# Подгрузка данных"
      ]
    },
    {
      "cell_type": "code",
      "metadata": {
        "colab": {
          "base_uri": "https://localhost:8080/"
        },
        "id": "qUACfReAZ3Ad",
        "outputId": "d24f7268-05ca-4ed9-a834-c5fe07d4f87b"
      },
      "source": [
        "drive.mount('/content/drive')\n",
        "df=pd.read_csv('drive/MyDrive/Анализ_акустических_событий/train.csv', sep=',',header=None)\n",
        "dataset = zipfile.ZipFile('drive/MyDrive/Анализ_акустических_событий/audio_train.zip')\n",
        "labels = df.values.tolist()"
      ],
      "execution_count": 2,
      "outputs": [
        {
          "output_type": "stream",
          "text": [
            "Drive already mounted at /content/drive; to attempt to forcibly remount, call drive.mount(\"/content/drive\", force_remount=True).\n"
          ],
          "name": "stdout"
        }
      ]
    },
    {
      "cell_type": "markdown",
      "metadata": {
        "id": "6B8SeO86ry8r"
      },
      "source": [
        "# Создание словарей с переводом label названий в label цифры и наоборот"
      ]
    },
    {
      "cell_type": "code",
      "metadata": {
        "id": "L9TGvxbahEXU"
      },
      "source": [
        "label_to_figure = {}\n",
        "count = 0\n",
        "for i in range(len(labels)):\n",
        "    if i == 0:\n",
        "        pass\n",
        "    elif labels[i][1] in label_to_figure:\n",
        "        pass\n",
        "    else:\n",
        "        label_to_figure[labels[i][1]] = count\n",
        "        count += 1\n",
        "\n",
        "figure_to_label = {}\n",
        "for i in label_to_figure.items():\n",
        "    figure_to_label[i[1]] = i[0]"
      ],
      "execution_count": 3,
      "outputs": []
    },
    {
      "cell_type": "markdown",
      "metadata": {
        "id": "lTdXz7bysKJe"
      },
      "source": [
        "# Достаём wav файлы из ZIP"
      ]
    },
    {
      "cell_type": "code",
      "metadata": {
        "id": "yosk6jfmqTxM"
      },
      "source": [
        "def read_from_zip(filename):\n",
        "    with io.BytesIO() as bytes_buff:\n",
        "        bytes_data = dataset.read(filename)\n",
        "        bytes_buff.write(bytes_data)\n",
        "        bytes_buff.seek(0)\n",
        "        sr, wave = wavfile.read(bytes_buff)\n",
        "        mel = librosa.feature.melspectrogram(wave, sr)\n",
        "    return sr, mel"
      ],
      "execution_count": 4,
      "outputs": []
    },
    {
      "cell_type": "markdown",
      "metadata": {
        "id": "j6XjkBqmsWmp"
      },
      "source": [
        "# Создаём Mel признаки"
      ]
    },
    {
      "cell_type": "code",
      "metadata": {
        "colab": {
          "base_uri": "https://localhost:8080/"
        },
        "id": "lXg-I_N5hw5Z",
        "outputId": "c9a3973f-7899-4d57-e80d-07c585d919ff"
      },
      "source": [
        "!nvidia-smi"
      ],
      "execution_count": 5,
      "outputs": [
        {
          "output_type": "stream",
          "text": [
            "Thu Jun 17 06:58:56 2021       \n",
            "+-----------------------------------------------------------------------------+\n",
            "| NVIDIA-SMI 465.27       Driver Version: 460.32.03    CUDA Version: 11.2     |\n",
            "|-------------------------------+----------------------+----------------------+\n",
            "| GPU  Name        Persistence-M| Bus-Id        Disp.A | Volatile Uncorr. ECC |\n",
            "| Fan  Temp  Perf  Pwr:Usage/Cap|         Memory-Usage | GPU-Util  Compute M. |\n",
            "|                               |                      |               MIG M. |\n",
            "|===============================+======================+======================|\n",
            "|   0  Tesla T4            Off  | 00000000:00:04.0 Off |                    0 |\n",
            "| N/A   42C    P8    10W /  70W |      0MiB / 15109MiB |      0%      Default |\n",
            "|                               |                      |                  N/A |\n",
            "+-------------------------------+----------------------+----------------------+\n",
            "                                                                               \n",
            "+-----------------------------------------------------------------------------+\n",
            "| Processes:                                                                  |\n",
            "|  GPU   GI   CI        PID   Type   Process name                  GPU Memory |\n",
            "|        ID   ID                                                   Usage      |\n",
            "|=============================================================================|\n",
            "|  No running processes found                                                 |\n",
            "+-----------------------------------------------------------------------------+\n"
          ],
          "name": "stdout"
        }
      ]
    },
    {
      "cell_type": "code",
      "metadata": {
        "id": "mbxOcO2ydyFY"
      },
      "source": [
        "import pandas as pd\n",
        "X = []\n",
        "Y = []\n",
        "for i in range(len(labels)//2, len(labels)):\n",
        "    if not i == 0:\n",
        "        sr, X_mel = read_from_zip(f'train/{labels[i][0]}')\n",
        "        # vre = np.zeros(480000)\n",
        "        # vre[:X_mel.shape[0]] = X_mel\n",
        "        X.append(X_mel)\n",
        "        Y.append(label_to_figure[labels[i][1]])\n",
        "# X = np.array(X)\n",
        "# Y = np.array(Y)"
      ],
      "execution_count": 6,
      "outputs": []
    },
    {
      "cell_type": "code",
      "metadata": {
        "id": "rGWh2hXgiuY8"
      },
      "source": [
        "les = []\n",
        "for i in range(len(X)):\n",
        "    le = []\n",
        "    for j in range(len(X[i])):\n",
        "        for p in range(len(X[i][j])):\n",
        "            le.append(X[i][j][p])\n",
        "    le = np.array(le)\n",
        "    vre = np.zeros(120064)\n",
        "    vre[:le.shape[0]] = le\n",
        "    les.append(vre)\n",
        "X = np.array(les)\n",
        "Y = np.array(Y)"
      ],
      "execution_count": 7,
      "outputs": []
    },
    {
      "cell_type": "markdown",
      "metadata": {
        "id": "2pzTV6y1swsa"
      },
      "source": [
        "# **Сохраняем pсl**"
      ]
    },
    {
      "cell_type": "markdown",
      "metadata": {
        "id": "tKE5CPiYs2U-"
      },
      "source": [
        "Не получается, прерывается из-за ОЗУ"
      ]
    },
    {
      "cell_type": "code",
      "metadata": {
        "id": "wR-0Gl8mo1cW"
      },
      "source": [
        "import pickle\n",
        "\n",
        "output = open('X.pkl', 'wb')\n",
        "pickle.dump(X, output)\n",
        "output.close()\n",
        "\n",
        "output = open('Y.pkl', 'wb')\n",
        "pickle.dump(Y, output)\n",
        "output.close()\n",
        "\n",
        "pkl_file = open('X.pkl', 'rb')\n",
        "X = pickle.load(pkl_file)\n",
        "pkl_file.close()\n",
        "\n",
        "pkl_file = open('Y.pkl', 'rb')\n",
        "Y = pickle.load(pkl_file)\n",
        "pkl_file.close()"
      ],
      "execution_count": null,
      "outputs": []
    },
    {
      "cell_type": "markdown",
      "metadata": {
        "id": "8nS0s_RKs9eY"
      },
      "source": [
        "# **Классификатор**"
      ]
    },
    {
      "cell_type": "markdown",
      "metadata": {
        "id": "eO70WE8NttCH"
      },
      "source": [
        "# Делим данные на траин и валидацию"
      ]
    },
    {
      "cell_type": "code",
      "metadata": {
        "id": "5a2H2Kzeyq20"
      },
      "source": [
        "from sklearn.preprocessing import LabelEncoder\n",
        "from sklearn.svm import LinearSVC\n",
        "from sklearn.metrics import classification_report\n",
        "from sklearn.model_selection import train_test_split\n",
        "from IPython.display import Image\n",
        "from imutils import paths\n",
        "import numpy as np\n",
        "import cv2\n",
        "import os"
      ],
      "execution_count": 8,
      "outputs": []
    },
    {
      "cell_type": "code",
      "metadata": {
        "id": "42y7ZpYCs8ll"
      },
      "source": [
        "from sklearn.model_selection import train_test_split\n",
        "X_train, X_test, y_train, y_test = train_test_split(X, Y, test_size=0.3)"
      ],
      "execution_count": 9,
      "outputs": []
    },
    {
      "cell_type": "markdown",
      "metadata": {
        "id": "UjjIzzzF7DR7"
      },
      "source": [
        "# Обучение"
      ]
    },
    {
      "cell_type": "code",
      "metadata": {
        "colab": {
          "base_uri": "https://localhost:8080/"
        },
        "id": "eKXGXgWwt17V",
        "outputId": "9150e131-7430-495f-889d-5c722686b2db"
      },
      "source": [
        "from sklearn.svm import LinearSVC\n",
        "model = LinearSVC(random_state = 51, C = 1)\n",
        "model.fit(X_train, y_train)"
      ],
      "execution_count": 10,
      "outputs": [
        {
          "output_type": "execute_result",
          "data": {
            "text/plain": [
              "LinearSVC(C=1, class_weight=None, dual=True, fit_intercept=True,\n",
              "          intercept_scaling=1, loss='squared_hinge', max_iter=1000,\n",
              "          multi_class='ovr', penalty='l2', random_state=51, tol=0.0001,\n",
              "          verbose=0)"
            ]
          },
          "metadata": {
            "tags": []
          },
          "execution_count": 10
        }
      ]
    },
    {
      "cell_type": "markdown",
      "metadata": {
        "id": "MJ_0xVgw7aK3"
      },
      "source": [
        "# Тест"
      ]
    },
    {
      "cell_type": "markdown",
      "metadata": {
        "id": "8uveVavkzSPb"
      },
      "source": [
        "# Средний f1 = 0.1\n",
        "Датасет делил на две части, f1.1 = 0.9 и f1.2 = 0.11"
      ]
    },
    {
      "cell_type": "markdown",
      "metadata": {
        "id": "ePBeY7uwwvwp"
      },
      "source": [
        "# Вторая половина базы"
      ]
    },
    {
      "cell_type": "code",
      "metadata": {
        "id": "O50wS067wsSi"
      },
      "source": [
        "predictions = model.predict(X_test)"
      ],
      "execution_count": 11,
      "outputs": []
    },
    {
      "cell_type": "code",
      "metadata": {
        "colab": {
          "base_uri": "https://localhost:8080/"
        },
        "id": "RptcedS_wsVh",
        "outputId": "248ebac2-eb1c-41f0-c968-d5d1664cd918"
      },
      "source": [
        "from sklearn.metrics import f1_score\n",
        "print(f1_score(y_test, predictions, average='macro'))\n",
        "print(classification_report(y_test, predictions))"
      ],
      "execution_count": 12,
      "outputs": [
        {
          "output_type": "stream",
          "text": [
            "0.07288835704668706\n",
            "              precision    recall  f1-score   support\n",
            "\n",
            "           0       0.22      0.62      0.33        13\n",
            "           1       0.00      0.00      0.00        16\n",
            "           2       0.00      0.00      0.00        16\n",
            "           3       0.00      0.00      0.00        11\n",
            "           4       0.40      0.07      0.12        28\n",
            "           5       0.03      0.04      0.03        24\n",
            "           6       0.03      0.09      0.05        11\n",
            "           7       0.00      0.00      0.00        23\n",
            "           8       0.00      0.00      0.00        29\n",
            "           9       0.06      0.17      0.08        23\n",
            "          10       0.29      0.44      0.35        27\n",
            "          11       0.09      0.03      0.05        33\n",
            "          12       0.17      0.04      0.07        24\n",
            "          13       0.00      0.00      0.00        18\n",
            "          14       0.43      0.75      0.55        12\n",
            "          15       0.00      0.00      0.00         7\n",
            "          16       0.00      0.00      0.00        28\n",
            "          17       0.04      0.05      0.04        21\n",
            "          18       0.03      0.10      0.04        20\n",
            "          19       0.00      0.00      0.00        26\n",
            "          20       0.00      0.00      0.00        18\n",
            "          21       0.10      0.05      0.06        22\n",
            "          22       0.03      0.08      0.04        12\n",
            "          23       0.00      0.00      0.00        35\n",
            "          24       0.00      0.00      0.00        15\n",
            "          25       0.25      0.04      0.07        26\n",
            "          26       0.13      0.11      0.12        37\n",
            "          27       0.10      0.27      0.15        26\n",
            "          28       0.12      0.06      0.08        33\n",
            "          29       0.14      0.06      0.08        17\n",
            "          30       0.00      0.00      0.00        11\n",
            "          31       0.02      0.06      0.03        16\n",
            "          32       0.00      0.00      0.00        27\n",
            "          33       0.21      0.53      0.31        17\n",
            "          34       0.12      0.08      0.09        39\n",
            "          35       0.00      0.00      0.00        31\n",
            "          36       0.50      0.08      0.13        13\n",
            "          37       0.00      0.00      0.00        16\n",
            "          38       0.00      0.00      0.00        10\n",
            "          39       0.00      0.00      0.00         6\n",
            "          40       0.12      0.12      0.12        16\n",
            "\n",
            "    accuracy                           0.09       853\n",
            "   macro avg       0.09      0.10      0.07       853\n",
            "weighted avg       0.09      0.09      0.07       853\n",
            "\n"
          ],
          "name": "stdout"
        }
      ]
    },
    {
      "cell_type": "markdown",
      "metadata": {
        "id": "-9Wu1OAhw01F"
      },
      "source": [
        "# Первая половина базы"
      ]
    },
    {
      "cell_type": "code",
      "metadata": {
        "id": "zqs5WmGft2En"
      },
      "source": [
        "predictions = model.predict(X_test)"
      ],
      "execution_count": 11,
      "outputs": []
    },
    {
      "cell_type": "code",
      "metadata": {
        "colab": {
          "base_uri": "https://localhost:8080/"
        },
        "id": "62_4rAe4yYgr",
        "outputId": "8d143b98-cbf5-4d29-a1d9-525a5b81e188"
      },
      "source": [
        "from sklearn.metrics import f1_score\n",
        "print(f1_score(y_test, predictions, average='macro'))\n",
        "print(classification_report(y_test, predictions))"
      ],
      "execution_count": 12,
      "outputs": [
        {
          "output_type": "stream",
          "text": [
            "0.08490946009874928\n",
            "              precision    recall  f1-score   support\n",
            "\n",
            "           0       0.27      0.33      0.30        18\n",
            "           1       0.08      0.21      0.12        29\n",
            "           2       0.00      0.00      0.00        11\n",
            "           3       0.00      0.00      0.00        17\n",
            "           4       0.22      0.08      0.12        24\n",
            "           5       0.04      0.06      0.05        33\n",
            "           6       0.00      0.00      0.00         8\n",
            "           7       0.33      0.12      0.17        26\n",
            "           8       0.09      0.05      0.06        22\n",
            "           9       0.07      0.09      0.08        32\n",
            "          10       0.25      0.52      0.34        33\n",
            "          11       0.22      0.07      0.11        27\n",
            "          12       0.00      0.00      0.00        22\n",
            "          13       0.00      0.00      0.00        31\n",
            "          14       0.61      0.48      0.54        23\n",
            "          15       0.00      0.00      0.00         8\n",
            "          16       0.14      0.06      0.09        32\n",
            "          17       0.00      0.00      0.00        25\n",
            "          18       0.03      0.10      0.04        21\n",
            "          19       0.00      0.00      0.00        28\n",
            "          20       0.00      0.00      0.00        24\n",
            "          21       0.00      0.00      0.00        20\n",
            "          22       0.00      0.00      0.00        12\n",
            "          23       0.00      0.00      0.00        31\n",
            "          24       0.00      0.00      0.00        11\n",
            "          25       0.33      0.08      0.13        25\n",
            "          26       0.14      0.10      0.12        29\n",
            "          27       0.13      0.43      0.20        23\n",
            "          28       0.00      0.00      0.00        22\n",
            "          29       0.00      0.00      0.00        16\n",
            "          30       0.00      0.00      0.00        15\n",
            "          31       0.00      0.00      0.00         9\n",
            "          32       0.00      0.00      0.00        28\n",
            "          33       0.25      0.52      0.34        25\n",
            "          34       0.05      0.05      0.05        21\n",
            "          35       0.33      0.08      0.13        24\n",
            "          36       0.12      0.07      0.09        15\n",
            "          37       0.00      0.00      0.00         6\n",
            "          38       0.18      0.25      0.21        12\n",
            "          39       0.06      0.10      0.07        10\n",
            "          40       0.09      0.20      0.13         5\n",
            "\n",
            "    accuracy                           0.11       853\n",
            "   macro avg       0.10      0.10      0.08       853\n",
            "weighted avg       0.11      0.11      0.10       853\n",
            "\n"
          ],
          "name": "stdout"
        },
        {
          "output_type": "stream",
          "text": [
            "/usr/local/lib/python3.7/dist-packages/sklearn/metrics/_classification.py:1272: UndefinedMetricWarning: Precision and F-score are ill-defined and being set to 0.0 in labels with no predicted samples. Use `zero_division` parameter to control this behavior.\n",
            "  _warn_prf(average, modifier, msg_start, len(result))\n"
          ],
          "name": "stderr"
        }
      ]
    }
  ]
}