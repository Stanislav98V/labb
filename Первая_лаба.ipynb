{
  "nbformat": 4,
  "nbformat_minor": 0,
  "metadata": {
    "colab": {
      "name": "Первая лаба.ipynb",
      "provenance": [],
      "collapsed_sections": [
        "SNgkxURlrbwf",
        "Txv-F9szrskU",
        "6B8SeO86ry8r",
        "lTdXz7bysKJe",
        "j6XjkBqmsWmp",
        "2pzTV6y1swsa",
        "eO70WE8NttCH",
        "UjjIzzzF7DR7",
        "MJ_0xVgw7aK3"
      ]
    },
    "kernelspec": {
      "name": "python3",
      "display_name": "Python 3"
    },
    "language_info": {
      "name": "python"
    },
    "accelerator": "GPU"
  },
  "cells": [
    {
      "cell_type": "markdown",
      "metadata": {
        "id": "SNgkxURlrbwf"
      },
      "source": [
        "# **Библиотеки**"
      ]
    },
    {
      "cell_type": "code",
      "metadata": {
        "id": "daPm9JQXlbH1"
      },
      "source": [
        "import librosa\n",
        "import zipfile\n",
        "import io\n",
        "from scipy.io import wavfile\n",
        "from google.colab import drive\n",
        "import numpy as np\n",
        "import pandas as pd"
      ],
      "execution_count": 2,
      "outputs": []
    },
    {
      "cell_type": "markdown",
      "metadata": {
        "id": "20bmPhL0rn-I"
      },
      "source": [
        "# **Данные**"
      ]
    },
    {
      "cell_type": "markdown",
      "metadata": {
        "id": "Txv-F9szrskU"
      },
      "source": [
        "# Подгрузка данных"
      ]
    },
    {
      "cell_type": "code",
      "metadata": {
        "colab": {
          "base_uri": "https://localhost:8080/"
        },
        "id": "qUACfReAZ3Ad",
        "outputId": "63edef3f-6a3d-496b-bd34-335d67a9241c"
      },
      "source": [
        "drive.mount('/content/drive')\n",
        "df=pd.read_csv('drive/MyDrive/Анализ_акустических_событий/train.csv', sep=',',header=None)\n",
        "dataset = zipfile.ZipFile('drive/MyDrive/Анализ_акустических_событий/audio_train.zip')\n",
        "labels = df.values.tolist()"
      ],
      "execution_count": 3,
      "outputs": [
        {
          "output_type": "stream",
          "text": [
            "Drive already mounted at /content/drive; to attempt to forcibly remount, call drive.mount(\"/content/drive\", force_remount=True).\n"
          ],
          "name": "stdout"
        }
      ]
    },
    {
      "cell_type": "markdown",
      "metadata": {
        "id": "6B8SeO86ry8r"
      },
      "source": [
        "# Создание словарей с переводом label названий в label цифры и наоборот"
      ]
    },
    {
      "cell_type": "code",
      "metadata": {
        "id": "L9TGvxbahEXU"
      },
      "source": [
        "label_to_figure = {}\n",
        "count = 0\n",
        "for i in range(len(labels)):\n",
        "    if i == 0:\n",
        "        pass\n",
        "    elif labels[i][1] in label_to_figure:\n",
        "        pass\n",
        "    else:\n",
        "        label_to_figure[labels[i][1]] = count\n",
        "        count += 1\n",
        "\n",
        "figure_to_label = {}\n",
        "for i in label_to_figure.items():\n",
        "    figure_to_label[i[1]] = i[0]"
      ],
      "execution_count": 4,
      "outputs": []
    },
    {
      "cell_type": "markdown",
      "metadata": {
        "id": "lTdXz7bysKJe"
      },
      "source": [
        "# Достаём wav файлы из ZIP"
      ]
    },
    {
      "cell_type": "code",
      "metadata": {
        "id": "yosk6jfmqTxM"
      },
      "source": [
        "def read_from_zip(filename):\n",
        "    with io.BytesIO() as bytes_buff:\n",
        "        bytes_data = dataset.read(filename)\n",
        "        bytes_buff.write(bytes_data)\n",
        "        bytes_buff.seek(0)\n",
        "        sr, wave = wavfile.read(bytes_buff)\n",
        "    return sr, wave"
      ],
      "execution_count": 5,
      "outputs": []
    },
    {
      "cell_type": "markdown",
      "metadata": {
        "id": "j6XjkBqmsWmp"
      },
      "source": [
        "# Создаём Mel признаки"
      ]
    },
    {
      "cell_type": "code",
      "metadata": {
        "id": "mbxOcO2ydyFY"
      },
      "source": [
        "import pandas as pd\n",
        "X = []\n",
        "Y = []\n",
        "for i in range(len(labels)//5):\n",
        "    if not i == 0:\n",
        "        sr, X_mel = read_from_zip(f'train/{labels[i][0]}')\n",
        "        vre = np.zeros(480000)\n",
        "        vre[:X_mel.shape[0]] = X_mel\n",
        "        X.append(vre)\n",
        "        Y.append(label_to_figure[labels[i][1]])\n",
        "X = np.array(X)\n",
        "Y = np.array(Y)"
      ],
      "execution_count": 6,
      "outputs": []
    },
    {
      "cell_type": "markdown",
      "metadata": {
        "id": "2pzTV6y1swsa"
      },
      "source": [
        "# **Сохраняем prl**"
      ]
    },
    {
      "cell_type": "markdown",
      "metadata": {
        "id": "tKE5CPiYs2U-"
      },
      "source": [
        "Не получается, прерывается из-за ОЗУ"
      ]
    },
    {
      "cell_type": "code",
      "metadata": {
        "id": "wR-0Gl8mo1cW"
      },
      "source": [
        "import pickle\n",
        "\n",
        "output = open('X.pkl', 'wb')\n",
        "pickle.dump(X, output)\n",
        "output.close()\n",
        "\n",
        "output = open('Y.pkl', 'wb')\n",
        "pickle.dump(Y, output)\n",
        "output.close()\n",
        "\n",
        "pkl_file = open('X.pkl', 'rb')\n",
        "X = pickle.load(pkl_file)\n",
        "pkl_file.close()\n",
        "\n",
        "pkl_file = open('Y.pkl', 'rb')\n",
        "Y = pickle.load(pkl_file)\n",
        "pkl_file.close()"
      ],
      "execution_count": null,
      "outputs": []
    },
    {
      "cell_type": "markdown",
      "metadata": {
        "id": "8nS0s_RKs9eY"
      },
      "source": [
        "# **Классификатор**"
      ]
    },
    {
      "cell_type": "markdown",
      "metadata": {
        "id": "eO70WE8NttCH"
      },
      "source": [
        "# Делим данные на траин и валидацию"
      ]
    },
    {
      "cell_type": "code",
      "metadata": {
        "id": "5a2H2Kzeyq20"
      },
      "source": [
        "from sklearn.preprocessing import LabelEncoder\n",
        "from sklearn.svm import LinearSVC\n",
        "from sklearn.metrics import classification_report\n",
        "from sklearn.model_selection import train_test_split\n",
        "from IPython.display import Image\n",
        "from imutils import paths\n",
        "import numpy as np\n",
        "import cv2\n",
        "import os"
      ],
      "execution_count": 7,
      "outputs": []
    },
    {
      "cell_type": "code",
      "metadata": {
        "id": "42y7ZpYCs8ll"
      },
      "source": [
        "from sklearn.model_selection import train_test_split\n",
        "X_train, X_test, y_train, y_test = train_test_split(X, Y, test_size=0.3)"
      ],
      "execution_count": 9,
      "outputs": []
    },
    {
      "cell_type": "markdown",
      "metadata": {
        "id": "UjjIzzzF7DR7"
      },
      "source": [
        "# Обучение"
      ]
    },
    {
      "cell_type": "code",
      "metadata": {
        "colab": {
          "base_uri": "https://localhost:8080/"
        },
        "id": "eKXGXgWwt17V",
        "outputId": "1a167e1f-97ca-40c5-ad87-e86ed35f41c0"
      },
      "source": [
        "from sklearn.svm import LinearSVC\n",
        "model = LinearSVC(random_state = 51, C = 1)\n",
        "model.fit(X_train, y_train)"
      ],
      "execution_count": 10,
      "outputs": [
        {
          "output_type": "execute_result",
          "data": {
            "text/plain": [
              "LinearSVC(C=1, class_weight=None, dual=True, fit_intercept=True,\n",
              "          intercept_scaling=1, loss='squared_hinge', max_iter=1000,\n",
              "          multi_class='ovr', penalty='l2', random_state=51, tol=0.0001,\n",
              "          verbose=0)"
            ]
          },
          "metadata": {
            "tags": []
          },
          "execution_count": 10
        }
      ]
    },
    {
      "cell_type": "markdown",
      "metadata": {
        "id": "MJ_0xVgw7aK3"
      },
      "source": [
        "# Тест"
      ]
    },
    {
      "cell_type": "code",
      "metadata": {
        "id": "zqs5WmGft2En"
      },
      "source": [
        "predictions = model.predict(X_test)"
      ],
      "execution_count": 11,
      "outputs": []
    },
    {
      "cell_type": "code",
      "metadata": {
        "colab": {
          "base_uri": "https://localhost:8080/"
        },
        "id": "62_4rAe4yYgr",
        "outputId": "e06cd953-36b9-4dd6-e0b3-d20f9fd5f29b"
      },
      "source": [
        "from sklearn.metrics import f1_score\n",
        "print(f1_score(y_test, predictions, average='macro'))\n",
        "print(classification_report(y_test, predictions))"
      ],
      "execution_count": 14,
      "outputs": [
        {
          "output_type": "stream",
          "text": [
            "0.06288464469680449\n",
            "              precision    recall  f1-score   support\n",
            "\n",
            "           0       0.00      0.00      0.00         3\n",
            "           1       0.00      0.00      0.00        15\n",
            "           2       0.00      0.00      0.00         4\n",
            "           3       0.00      0.00      0.00         2\n",
            "           4       0.60      0.21      0.32        14\n",
            "           5       0.12      0.08      0.10        12\n",
            "           6       0.00      0.00      0.00         4\n",
            "           7       1.00      0.08      0.15        12\n",
            "           8       0.00      0.00      0.00        19\n",
            "           9       0.00      0.00      0.00        15\n",
            "          10       0.00      0.00      0.00         9\n",
            "          11       0.00      0.00      0.00        11\n",
            "          12       0.07      0.12      0.09         8\n",
            "          13       0.00      0.00      0.00        14\n",
            "          14       0.50      0.36      0.42        11\n",
            "          15       0.67      0.67      0.67         3\n",
            "          16       0.14      0.57      0.22         7\n",
            "          17       0.00      0.00      0.00        15\n",
            "          18       0.05      0.11      0.07         9\n",
            "          19       1.00      0.11      0.20         9\n",
            "          20       0.00      0.00      0.00         9\n",
            "          21       0.00      0.00      0.00        13\n",
            "          22       0.00      0.00      0.00         3\n",
            "          23       0.00      0.00      0.00        13\n",
            "          24       0.00      0.00      0.00         3\n",
            "          25       0.20      0.20      0.20        10\n",
            "          26       0.00      0.00      0.00        10\n",
            "          27       0.14      0.09      0.11        11\n",
            "          28       0.00      0.00      0.00         9\n",
            "          29       0.00      0.00      0.00         2\n",
            "          30       0.00      0.00      0.00         2\n",
            "          31       0.00      0.00      0.00         4\n",
            "          32       0.00      0.00      0.00        13\n",
            "          33       0.02      0.40      0.03         5\n",
            "          34       0.00      0.00      0.00         8\n",
            "          35       0.00      0.00      0.00         6\n",
            "          36       0.00      0.00      0.00         6\n",
            "          37       0.00      0.00      0.00         5\n",
            "          38       0.00      0.00      0.00         5\n",
            "          39       0.00      0.00      0.00         4\n",
            "          40       0.00      0.00      0.00         4\n",
            "\n",
            "    accuracy                           0.07       341\n",
            "   macro avg       0.11      0.07      0.06       341\n",
            "weighted avg       0.13      0.07      0.06       341\n",
            "\n"
          ],
          "name": "stdout"
        },
        {
          "output_type": "stream",
          "text": [
            "/usr/local/lib/python3.7/dist-packages/sklearn/metrics/_classification.py:1272: UndefinedMetricWarning: Precision and F-score are ill-defined and being set to 0.0 in labels with no predicted samples. Use `zero_division` parameter to control this behavior.\n",
            "  _warn_prf(average, modifier, msg_start, len(result))\n"
          ],
          "name": "stderr"
        }
      ]
    }
  ]
}