{
  "nbformat": 4,
  "nbformat_minor": 0,
  "metadata": {
    "colab": {
      "name": "Первая лаба ААС.ipynb",
      "provenance": [],
      "collapsed_sections": [
        "SNgkxURlrbwf",
        "Txv-F9szrskU",
        "6B8SeO86ry8r"
      ]
    },
    "kernelspec": {
      "name": "python3",
      "display_name": "Python 3"
    },
    "language_info": {
      "name": "python"
    },
    "accelerator": "GPU"
  },
  "cells": [
    {
      "cell_type": "markdown",
      "metadata": {
        "id": "SNgkxURlrbwf"
      },
      "source": [
        "# **Библиотеки**"
      ]
    },
    {
      "cell_type": "code",
      "metadata": {
        "id": "daPm9JQXlbH1"
      },
      "source": [
        "import librosa\n",
        "import zipfile\n",
        "import io\n",
        "from scipy.io import wavfile\n",
        "from google.colab import drive\n",
        "import numpy as np\n",
        "import pandas as pd"
      ],
      "execution_count": null,
      "outputs": []
    },
    {
      "cell_type": "markdown",
      "metadata": {
        "id": "20bmPhL0rn-I"
      },
      "source": [
        "# **Данные**"
      ]
    },
    {
      "cell_type": "markdown",
      "metadata": {
        "id": "Txv-F9szrskU"
      },
      "source": [
        "# Подгрузка данных"
      ]
    },
    {
      "cell_type": "code",
      "metadata": {
        "colab": {
          "base_uri": "https://localhost:8080/"
        },
        "id": "qUACfReAZ3Ad",
        "outputId": "6731824f-285d-452d-ac27-5cdc3259d3ad"
      },
      "source": [
        "drive.mount('/content/drive')\n",
        "df=pd.read_csv('drive/MyDrive/Анализ_акустических_событий/train.csv', sep=',',header=None)\n",
        "dataset = zipfile.ZipFile('drive/MyDrive/Анализ_акустических_событий/audio_train.zip')\n",
        "labels = df.values.tolist()"
      ],
      "execution_count": null,
      "outputs": [
        {
          "output_type": "stream",
          "text": [
            "Mounted at /content/drive\n"
          ],
          "name": "stdout"
        }
      ]
    },
    {
      "cell_type": "markdown",
      "metadata": {
        "id": "6B8SeO86ry8r"
      },
      "source": [
        "# Создание словарей с переводом label названий в label цифры и наоборот"
      ]
    },
    {
      "cell_type": "code",
      "metadata": {
        "id": "L9TGvxbahEXU"
      },
      "source": [
        "label_to_figure = {}\n",
        "count = 0\n",
        "for i in range(len(labels)):\n",
        "    if i == 0:\n",
        "        pass\n",
        "    elif labels[i][1] in label_to_figure:\n",
        "        pass\n",
        "    else:\n",
        "        label_to_figure[labels[i][1]] = count\n",
        "        count += 1\n",
        "\n",
        "figure_to_label = {}\n",
        "for i in label_to_figure.items():\n",
        "    figure_to_label[i[1]] = i[0]"
      ],
      "execution_count": null,
      "outputs": []
    },
    {
      "cell_type": "markdown",
      "metadata": {
        "id": "lTdXz7bysKJe"
      },
      "source": [
        "# Достаём wav файлы из ZIP"
      ]
    },
    {
      "cell_type": "markdown",
      "metadata": {
        "id": "-iP2Q1M0z5g0"
      },
      "source": [
        "**Сразу переводим в Mel**"
      ]
    },
    {
      "cell_type": "code",
      "metadata": {
        "id": "yosk6jfmqTxM"
      },
      "source": [
        "def read_from_zip(filename):\n",
        "    with io.BytesIO() as bytes_buff:\n",
        "        bytes_data = dataset.read(filename)\n",
        "        bytes_buff.write(bytes_data)\n",
        "        bytes_buff.seek(0)\n",
        "        sr, wave = wavfile.read(bytes_buff)\n",
        "        mel = librosa.feature.melspectrogram(wave, sr, n_fft=1024, hop_length=1024//4, n_mels=64, fmax=sr // 2)\n",
        "    return sr, mel"
      ],
      "execution_count": null,
      "outputs": []
    },
    {
      "cell_type": "markdown",
      "metadata": {
        "id": "j6XjkBqmsWmp"
      },
      "source": [
        "# Создаём Mel признаки"
      ]
    },
    {
      "cell_type": "markdown",
      "metadata": {
        "id": "a625TODxz-wM"
      },
      "source": [
        "**Параметры GPU**"
      ]
    },
    {
      "cell_type": "code",
      "metadata": {
        "id": "dEKo4PVM4tv5"
      },
      "source": [
        "from sklearn.decomposition import PCA\n",
        "pca = PCA(n_components=5000)"
      ],
      "execution_count": null,
      "outputs": []
    },
    {
      "cell_type": "code",
      "metadata": {
        "id": "9Uull_iJRWYe"
      },
      "source": [
        "ZER = np.zeros((len(labels)-1, 120064))"
      ],
      "execution_count": null,
      "outputs": []
    },
    {
      "cell_type": "markdown",
      "metadata": {
        "id": "tZZeOYIr0HWk"
      },
      "source": [
        "**Получаем признаки**"
      ]
    },
    {
      "cell_type": "code",
      "metadata": {
        "id": "jxNIHRxJR9pY"
      },
      "source": [
        "import pandas as pd\n",
        "Y = []\n",
        "for i in range(len(labels)):\n",
        "    if not i == 0:\n",
        "        sr, X_mel = read_from_zip(f'train/{labels[i][0]}')\n",
        "        for l in range(len(X_mel)):\n",
        "            ZER[i-1][l*len(X_mel[l]):len(X_mel[l])*(l+1)] = X_mel[l]\n",
        "        Y.append(label_to_figure[labels[i][1]])\n",
        "Y = np.array(Y)"
      ],
      "execution_count": null,
      "outputs": []
    },
    {
      "cell_type": "code",
      "metadata": {
        "id": "Ve8SMReXC9rX"
      },
      "source": [
        "del labels"
      ],
      "execution_count": null,
      "outputs": []
    },
    {
      "cell_type": "markdown",
      "metadata": {
        "id": "3eE0Lluw0LA8"
      },
      "source": [
        "**Преобразуем признаки**"
      ]
    },
    {
      "cell_type": "markdown",
      "metadata": {
        "id": "2pzTV6y1swsa"
      },
      "source": [
        "# **Сохраняем pсl**"
      ]
    },
    {
      "cell_type": "code",
      "metadata": {
        "id": "wR-0Gl8mo1cW"
      },
      "source": [
        "import pickle\n",
        "\n",
        "output = open('X_train.pkl', 'wb')\n",
        "pickle.dump(ZER, output)\n",
        "output.close()\n",
        "\n",
        "output = open('Y_train.pkl', 'wb')\n",
        "pickle.dump(Y, output)\n",
        "output.close()\n",
        "\n",
        "output = open('X_test.pkl', 'wb')\n",
        "pickle.dump(X_test, output)\n",
        "output.close()\n",
        "\n",
        "output = open('Y_test.pkl', 'wb')\n",
        "pickle.dump(y_test, output)\n",
        "output.close()"
      ],
      "execution_count": null,
      "outputs": []
    },
    {
      "cell_type": "markdown",
      "metadata": {
        "id": "8nS0s_RKs9eY"
      },
      "source": [
        "# **Классификатор**"
      ]
    },
    {
      "cell_type": "markdown",
      "metadata": {
        "id": "eO70WE8NttCH"
      },
      "source": [
        "# Делим данные на траин и валидацию"
      ]
    },
    {
      "cell_type": "code",
      "metadata": {
        "id": "5a2H2Kzeyq20"
      },
      "source": [
        "from sklearn.preprocessing import LabelEncoder\n",
        "from sklearn.svm import LinearSVC\n",
        "from sklearn.metrics import classification_report\n",
        "from sklearn.model_selection import train_test_split\n",
        "from IPython.display import Image\n",
        "from imutils import paths\n",
        "import numpy as np\n",
        "import cv2\n",
        "import os"
      ],
      "execution_count": null,
      "outputs": []
    },
    {
      "cell_type": "code",
      "metadata": {
        "id": "42y7ZpYCs8ll"
      },
      "source": [
        "from sklearn.model_selection import train_test_split\n",
        "ZER, X_test, Y, y_test = train_test_split(ZER, Y, test_size=0.3)"
      ],
      "execution_count": null,
      "outputs": []
    },
    {
      "cell_type": "markdown",
      "metadata": {
        "id": "UjjIzzzF7DR7"
      },
      "source": [
        "# Обучение"
      ]
    },
    {
      "cell_type": "code",
      "metadata": {
        "id": "eKXGXgWwt17V",
        "colab": {
          "base_uri": "https://localhost:8080/"
        },
        "outputId": "60613abb-d74f-49a6-971a-78462849e78b"
      },
      "source": [
        "from sklearn.svm import LinearSVC\n",
        "model = LinearSVC(random_state = 2000, C = 10)\n",
        "model.fit(ZER, Y)"
      ],
      "execution_count": null,
      "outputs": [
        {
          "output_type": "stream",
          "text": [
            "/usr/local/lib/python3.7/dist-packages/sklearn/svm/_base.py:947: ConvergenceWarning: Liblinear failed to converge, increase the number of iterations.\n",
            "  \"the number of iterations.\", ConvergenceWarning)\n"
          ],
          "name": "stderr"
        },
        {
          "output_type": "execute_result",
          "data": {
            "text/plain": [
              "LinearSVC(C=10, class_weight=None, dual=True, fit_intercept=True,\n",
              "          intercept_scaling=1, loss='squared_hinge', max_iter=1000,\n",
              "          multi_class='ovr', penalty='l2', random_state=2000, tol=0.0001,\n",
              "          verbose=0)"
            ]
          },
          "metadata": {
            "tags": []
          },
          "execution_count": 0
        }
      ]
    },
    {
      "cell_type": "markdown",
      "metadata": {
        "id": "MJ_0xVgw7aK3"
      },
      "source": [
        "# Тест"
      ]
    },
    {
      "cell_type": "code",
      "metadata": {
        "id": "O50wS067wsSi"
      },
      "source": [
        "predictions = model.predict(X_test)"
      ],
      "execution_count": null,
      "outputs": []
    },
    {
      "cell_type": "code",
      "metadata": {
        "id": "RptcedS_wsVh",
        "colab": {
          "base_uri": "https://localhost:8080/"
        },
        "outputId": "93bc3df8-fcb4-4357-927c-9c2736ecc2de"
      },
      "source": [
        "from sklearn.metrics import f1_score\n",
        "print(f1_score(y_test, predictions, average='macro'))\n",
        "print(classification_report(y_test, predictions))"
      ],
      "execution_count": null,
      "outputs": [
        {
          "output_type": "stream",
          "text": [
            "0.0964186183092194\n",
            "              precision    recall  f1-score   support\n",
            "\n",
            "           0       0.21      0.29      0.24        24\n",
            "           1       0.08      0.07      0.08        55\n",
            "           2       0.02      0.05      0.03        20\n",
            "           3       0.08      0.06      0.07        17\n",
            "           4       0.22      0.03      0.06        60\n",
            "           5       0.10      0.12      0.11        51\n",
            "           6       0.02      0.04      0.02        23\n",
            "           7       0.17      0.10      0.12        42\n",
            "           8       0.00      0.00      0.00        45\n",
            "           9       0.01      0.02      0.01        45\n",
            "          10       0.25      0.20      0.22        60\n",
            "          11       0.07      0.06      0.06        47\n",
            "          12       0.10      0.03      0.04        38\n",
            "          13       0.81      0.32      0.46        53\n",
            "          14       0.53      0.55      0.54        38\n",
            "          15       1.00      0.08      0.14        13\n",
            "          16       0.20      0.25      0.22        64\n",
            "          17       0.05      0.02      0.03        48\n",
            "          18       0.06      0.09      0.07        56\n",
            "          19       0.14      0.05      0.08        58\n",
            "          20       0.15      0.04      0.06        54\n",
            "          21       0.00      0.00      0.00        37\n",
            "          22       0.10      0.15      0.12        33\n",
            "          23       0.03      0.02      0.02        48\n",
            "          24       0.03      0.03      0.03        33\n",
            "          25       0.05      0.03      0.03        39\n",
            "          26       0.13      0.23      0.17        62\n",
            "          27       0.22      0.35      0.27        71\n",
            "          28       0.09      0.02      0.03        58\n",
            "          29       0.07      0.03      0.04        40\n",
            "          30       0.00      0.00      0.00        28\n",
            "          31       0.03      0.07      0.04        29\n",
            "          32       0.11      0.03      0.05        59\n",
            "          33       0.18      0.50      0.27        40\n",
            "          34       0.04      0.05      0.04        55\n",
            "          35       0.05      0.02      0.03        56\n",
            "          36       0.00      0.00      0.00        28\n",
            "          37       0.01      0.05      0.02        21\n",
            "          38       0.04      0.05      0.04        20\n",
            "          39       0.03      0.07      0.04        14\n",
            "          40       0.03      0.04      0.04        23\n",
            "\n",
            "    accuracy                           0.11      1705\n",
            "   macro avg       0.13      0.10      0.10      1705\n",
            "weighted avg       0.14      0.11      0.11      1705\n",
            "\n"
          ],
          "name": "stdout"
        }
      ]
    }
  ]
}